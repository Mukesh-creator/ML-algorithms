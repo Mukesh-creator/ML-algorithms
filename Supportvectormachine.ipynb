{
 "cells": [
  {
   "cell_type": "markdown",
   "metadata": {
    "id": "l-FmNW1v-wEx"
   },
   "source": [
    "# **Day - 5 | Handwritten Digit Recognition | SVM**"
   ]
  },
  {
   "cell_type": "markdown",
   "metadata": {
    "id": "aPZ-cSea-8Pz"
   },
   "source": [
    "### *Importing Basic Libraries*"
   ]
  },
  {
   "cell_type": "code",
   "execution_count": 1,
   "metadata": {
    "id": "KgOTIpQe-Sij"
   },
   "outputs": [],
   "source": [
    "import pandas as pd\n",
    "import numpy as np\n",
    "import matplotlib.pyplot as plt\n",
    "from sklearn.model_selection import train_test_split\n",
    "from sklearn import svm\n",
    "from sklearn.metrics import accuracy_score\n",
    "from sklearn import svm\n",
    "from mpl_toolkits import mplot3d\n",
    "from matplotlib.colors import ListedColormap\n",
    "from matplotlib.axes._axes import _log as matplotlib_axes_logger"
   ]
  },
  {
   "cell_type": "markdown",
   "metadata": {},
   "source": [
    "### *Importing Dataset*"
   ]
  },
  {
   "cell_type": "code",
   "execution_count": 2,
   "metadata": {},
   "outputs": [
    {
     "data": {
      "text/html": [
       "<div>\n",
       "<style scoped>\n",
       "    .dataframe tbody tr th:only-of-type {\n",
       "        vertical-align: middle;\n",
       "    }\n",
       "\n",
       "    .dataframe tbody tr th {\n",
       "        vertical-align: top;\n",
       "    }\n",
       "\n",
       "    .dataframe thead th {\n",
       "        text-align: right;\n",
       "    }\n",
       "</style>\n",
       "<table border=\"1\" class=\"dataframe\">\n",
       "  <thead>\n",
       "    <tr style=\"text-align: right;\">\n",
       "      <th></th>\n",
       "      <th>danceability</th>\n",
       "      <th>energy</th>\n",
       "      <th>key</th>\n",
       "      <th>loudness</th>\n",
       "      <th>mode</th>\n",
       "      <th>speechiness</th>\n",
       "      <th>acousticness</th>\n",
       "      <th>instrumentalness</th>\n",
       "      <th>liveness</th>\n",
       "      <th>valence</th>\n",
       "      <th>tempo</th>\n",
       "      <th>duration_ms</th>\n",
       "      <th>time_signature</th>\n",
       "      <th>liked</th>\n",
       "    </tr>\n",
       "  </thead>\n",
       "  <tbody>\n",
       "    <tr>\n",
       "      <th>0</th>\n",
       "      <td>0.803</td>\n",
       "      <td>0.6240</td>\n",
       "      <td>7</td>\n",
       "      <td>-6.764</td>\n",
       "      <td>0</td>\n",
       "      <td>0.0477</td>\n",
       "      <td>0.451</td>\n",
       "      <td>0.000734</td>\n",
       "      <td>0.1000</td>\n",
       "      <td>0.6280</td>\n",
       "      <td>95.968</td>\n",
       "      <td>304524</td>\n",
       "      <td>4</td>\n",
       "      <td>0</td>\n",
       "    </tr>\n",
       "    <tr>\n",
       "      <th>1</th>\n",
       "      <td>0.762</td>\n",
       "      <td>0.7030</td>\n",
       "      <td>10</td>\n",
       "      <td>-7.951</td>\n",
       "      <td>0</td>\n",
       "      <td>0.3060</td>\n",
       "      <td>0.206</td>\n",
       "      <td>0.000000</td>\n",
       "      <td>0.0912</td>\n",
       "      <td>0.5190</td>\n",
       "      <td>151.329</td>\n",
       "      <td>247178</td>\n",
       "      <td>4</td>\n",
       "      <td>1</td>\n",
       "    </tr>\n",
       "    <tr>\n",
       "      <th>2</th>\n",
       "      <td>0.261</td>\n",
       "      <td>0.0149</td>\n",
       "      <td>1</td>\n",
       "      <td>-27.528</td>\n",
       "      <td>1</td>\n",
       "      <td>0.0419</td>\n",
       "      <td>0.992</td>\n",
       "      <td>0.897000</td>\n",
       "      <td>0.1020</td>\n",
       "      <td>0.0382</td>\n",
       "      <td>75.296</td>\n",
       "      <td>286987</td>\n",
       "      <td>4</td>\n",
       "      <td>0</td>\n",
       "    </tr>\n",
       "    <tr>\n",
       "      <th>3</th>\n",
       "      <td>0.722</td>\n",
       "      <td>0.7360</td>\n",
       "      <td>3</td>\n",
       "      <td>-6.994</td>\n",
       "      <td>0</td>\n",
       "      <td>0.0585</td>\n",
       "      <td>0.431</td>\n",
       "      <td>0.000001</td>\n",
       "      <td>0.1230</td>\n",
       "      <td>0.5820</td>\n",
       "      <td>89.860</td>\n",
       "      <td>208920</td>\n",
       "      <td>4</td>\n",
       "      <td>1</td>\n",
       "    </tr>\n",
       "    <tr>\n",
       "      <th>4</th>\n",
       "      <td>0.787</td>\n",
       "      <td>0.5720</td>\n",
       "      <td>1</td>\n",
       "      <td>-7.516</td>\n",
       "      <td>1</td>\n",
       "      <td>0.2220</td>\n",
       "      <td>0.145</td>\n",
       "      <td>0.000000</td>\n",
       "      <td>0.0753</td>\n",
       "      <td>0.6470</td>\n",
       "      <td>155.117</td>\n",
       "      <td>179413</td>\n",
       "      <td>4</td>\n",
       "      <td>1</td>\n",
       "    </tr>\n",
       "  </tbody>\n",
       "</table>\n",
       "</div>"
      ],
      "text/plain": [
       "   danceability  energy  key  loudness  mode  speechiness  acousticness  \\\n",
       "0         0.803  0.6240    7    -6.764     0       0.0477         0.451   \n",
       "1         0.762  0.7030   10    -7.951     0       0.3060         0.206   \n",
       "2         0.261  0.0149    1   -27.528     1       0.0419         0.992   \n",
       "3         0.722  0.7360    3    -6.994     0       0.0585         0.431   \n",
       "4         0.787  0.5720    1    -7.516     1       0.2220         0.145   \n",
       "\n",
       "   instrumentalness  liveness  valence    tempo  duration_ms  time_signature  \\\n",
       "0          0.000734    0.1000   0.6280   95.968       304524               4   \n",
       "1          0.000000    0.0912   0.5190  151.329       247178               4   \n",
       "2          0.897000    0.1020   0.0382   75.296       286987               4   \n",
       "3          0.000001    0.1230   0.5820   89.860       208920               4   \n",
       "4          0.000000    0.0753   0.6470  155.117       179413               4   \n",
       "\n",
       "   liked  \n",
       "0      0  \n",
       "1      1  \n",
       "2      0  \n",
       "3      1  \n",
       "4      1  "
      ]
     },
     "execution_count": 2,
     "metadata": {},
     "output_type": "execute_result"
    }
   ],
   "source": [
    "dataset = pd.read_csv('data1.csv')\n",
    "dataset.head()"
   ]
  },
  {
   "cell_type": "code",
   "execution_count": 3,
   "metadata": {},
   "outputs": [],
   "source": [
    "matplotlib_axes_logger.setLevel('ERROR')\n",
    "zero_one_colourmap = ListedColormap(('red', 'green'))"
   ]
  },
  {
   "cell_type": "markdown",
   "metadata": {
    "id": "fIw9RCUrACG9"
   },
   "source": [
    "### *Summarize Dataset*"
   ]
  },
  {
   "cell_type": "code",
   "execution_count": 4,
   "metadata": {
    "colab": {
     "base_uri": "https://localhost:8080/"
    },
    "id": "OKcoy2EJAFj2",
    "outputId": "75dd0c3c-93e7-472f-e5de-d82e7388f439"
   },
   "outputs": [
    {
     "name": "stdout",
     "output_type": "stream",
     "text": [
      "0      0.0477\n",
      "1      0.3060\n",
      "2      0.0419\n",
      "3      0.0585\n",
      "4      0.2220\n",
      "        ...  \n",
      "190    0.0520\n",
      "191    0.0565\n",
      "192    0.0448\n",
      "193    0.0965\n",
      "194    0.1970\n",
      "Name: speechiness, Length: 195, dtype: float64\n",
      "0      -6.764\n",
      "1      -7.951\n",
      "2     -27.528\n",
      "3      -6.994\n",
      "4      -7.516\n",
      "        ...  \n",
      "190   -19.494\n",
      "191   -11.630\n",
      "192   -11.509\n",
      "193    -5.838\n",
      "194    -7.845\n",
      "Name: loudness, Length: 195, dtype: float64\n",
      "195\n"
     ]
    }
   ],
   "source": [
    "print(dataset.speechiness)\n",
    "print(dataset.loudness)\n",
    "\n",
    "dataLength = len(dataset.key)\n",
    "print(dataLength)"
   ]
  },
  {
   "cell_type": "code",
   "execution_count": 5,
   "metadata": {},
   "outputs": [
    {
     "data": {
      "text/plain": [
       "1     30\n",
       "8     22\n",
       "6     20\n",
       "7     19\n",
       "5     18\n",
       "9     18\n",
       "10    17\n",
       "2     15\n",
       "0     12\n",
       "11    10\n",
       "4      9\n",
       "3      5\n",
       "Name: key, dtype: int64"
      ]
     },
     "execution_count": 5,
     "metadata": {},
     "output_type": "execute_result"
    }
   ],
   "source": [
    "dataset['key'].value_counts()"
   ]
  },
  {
   "cell_type": "markdown",
   "metadata": {
    "id": "epmSBzRtCgdh"
   },
   "source": [
    "### *Visualize the Dataset*"
   ]
  },
  {
   "cell_type": "code",
   "execution_count": 6,
   "metadata": {},
   "outputs": [
    {
     "data": {
      "image/png": "[encoded data removed]",
      "text/plain": [
       "<Figure size 432x288 with 1 Axes>"
      ]
     },
     "metadata": {
      "needs_background": "light"
     },
     "output_type": "display_data"
    }
   ],
   "source": [
    "key_one = dataset[dataset['key']==1][0:200]\n",
    "key_two = dataset[dataset['key']==8][0:200]\n",
    "key_three = dataset[dataset['key']==6][0:200]\n",
    "key_four = dataset[dataset['key']==7][0:200]\n",
    "key_five = dataset[dataset['key']==9][0:200]\n",
    "key_six = dataset[dataset['key']==5][0:200]\n",
    "key_seven = dataset[dataset['key']==10][0:200]\n",
    "key_eight = dataset[dataset['key']==2][0:200]\n",
    "key_nine = dataset[dataset['key']==0][0:200]\n",
    "key_ten = dataset[dataset['key']==11][0:200]\n",
    "key_eleven = dataset[dataset['key']==4][0:200]\n",
    "key_twelve = dataset[dataset['key']==3][0:200]\n",
    "\n",
    "axes = key_one.plot(kind='scatter', x='speechiness', y='loudness', color='blue')\n",
    "ax = key_two.plot(kind='scatter', x='speechiness', y='loudness', color='green', ax=axes)\n",
    "ax = key_three.plot(kind='scatter', x='speechiness', y='loudness', color='red', ax=axes)\n",
    "ax = key_four.plot(kind='scatter', x='speechiness', y='loudness', color='cyan', ax=axes)\n",
    "ax = key_five.plot(kind='scatter', x='speechiness', y='loudness', color='magenta', ax=axes)\n",
    "ax = key_six.plot(kind='scatter', x='speechiness', y='loudness', color='yellow', ax=axes)\n",
    "ax = key_seven.plot(kind='scatter', x='speechiness', y='loudness', color='black', ax=axes)\n",
    "ax = key_eight.plot(kind='scatter', x='speechiness', y='loudness', color='orange', ax=axes)\n",
    "ax = key_nine.plot(kind='scatter', x='speechiness', y='loudness', color='darkgreen', ax=axes)\n",
    "ax = key_ten.plot(kind='scatter', x='speechiness', y='loudness', color='chocolate', ax=axes)\n",
    "ax = key_eleven.plot(kind='scatter', x='speechiness', y='loudness', color='purple', ax=axes)\n",
    "ax = key_twelve.plot(kind='scatter', x='speechiness', y='loudness', color='violet', ax=axes)"
   ]
  },
  {
   "cell_type": "code",
   "execution_count": 7,
   "metadata": {},
   "outputs": [],
   "source": [
    "def plot_3d_plot(X, y):\n",
    "  r = np.exp(-(X ** 2).sum(1))\n",
    "  ax = plt.subplot(projection='3d')\n",
    "  ax.scatter3D(X[:, 0], X[:, 1], r, c=y, s=10, cmap=zero_one_colourmap)\n",
    "  ax.set_xlabel('speechiness')\n",
    "  ax.set_ylabel('loudness')\n",
    "  ax.set_zlabel('key')\n",
    "  return ax"
   ]
  },
  {
   "cell_type": "code",
   "execution_count": 8,
   "metadata": {},
   "outputs": [],
   "source": [
    "def plot_hyperplane(X, y, clf):\n",
    "  X_set, y_set = X, y\n",
    "  X1, X2 = np.meshgrid(np.arange(start = X_set[:, 0].min() - 1, \n",
    "                                 stop = X_set[:, 0].max() + 1, \n",
    "                                 step = 0.01),\n",
    "                       np.arange(start = X_set[:, 1].min() - 1, \n",
    "                                 stop = X_set[:, 1].max() + 1, \n",
    "                                 step = 0.01))\n",
    "  \n",
    "  plt.contourf(X1, X2, clf.predict(np.array([X1.ravel(), \n",
    "                                             X2.ravel()]).T).reshape(X1.shape),\n",
    "               alpha = 0.75, \n",
    "               cmap = zero_one_colourmap)\n",
    "  plt.xlim(X1.min(), X1.max())\n",
    "  plt.ylim(X2.min(), X2.max())\n",
    "  for i, j in enumerate(np.unique(y_set)):\n",
    "    plt.scatter(X_set[y_set == j, 0], X_set[y_set == j, 1],\n",
    "                c = (zero_one_colourmap)(i), label = j)\n",
    "  plt.title('SVM Hyperplane')\n",
    "  plt.xlabel('Speechiness')\n",
    "  plt.ylabel('Loudness')\n",
    "  plt.legend()\n",
    "  return plt.show()"
   ]
  },
  {
   "cell_type": "markdown",
   "metadata": {
    "id": "woyBgG8hGXI-"
   },
   "source": [
    "### *Segregate Dataset into X(Input/IndependentVariable) & Y(Output/DependentVariable)*\n",
    "\n",
    "### *Input - Pixel | Output - Class*"
   ]
  },
  {
   "cell_type": "code",
   "execution_count": 9,
   "metadata": {
    "colab": {
     "base_uri": "https://localhost:8080/"
    },
    "id": "OYBk3bVmGbxW",
    "outputId": "f3405244-3ff6-41ed-d192-23fafdd843fd"
   },
   "outputs": [
    {
     "data": {
      "text/plain": [
       "array([[ 4.7700e-02, -6.7640e+00],\n",
       "       [ 3.0600e-01, -7.9510e+00],\n",
       "       [ 4.1900e-02, -2.7528e+01],\n",
       "       [ 5.8500e-02, -6.9940e+00],\n",
       "       [ 2.2200e-01, -7.5160e+00],\n",
       "       [ 1.2500e-01, -6.4150e+00],\n",
       "       [ 3.2400e-01, -8.4050e+00],\n",
       "       [ 1.7100e-01, -6.0240e+00],\n",
       "       [ 4.9800e-02, -7.0630e+00],\n",
       "       [ 4.4700e-01, -6.9950e+00],\n",
       "       [ 1.1800e-01, -7.1730e+00],\n",
       "       [ 2.4100e-01, -9.1900e+00],\n",
       "       [ 1.5100e-01, -4.5050e+00],\n",
       "       [ 2.2000e-01, -5.7820e+00],\n",
       "       [ 7.4100e-02, -2.3360e+00],\n",
       "       [ 3.0900e-02, -9.9060e+00],\n",
       "       [ 1.2300e-01, -5.6500e+00],\n",
       "       [ 8.7400e-02, -9.4820e+00],\n",
       "       [ 1.5400e-01, -1.0889e+01],\n",
       "       [ 2.4100e-01, -5.2020e+00],\n",
       "       [ 2.0200e-01, -3.8320e+00],\n",
       "       [ 6.9500e-02, -2.1686e+01],\n",
       "       [ 6.3100e-02, -8.6000e+00],\n",
       "       [ 3.7600e-01, -1.2028e+01],\n",
       "       [ 4.4400e-01, -1.0104e+01],\n",
       "       [ 2.3700e-01, -7.9080e+00],\n",
       "       [ 5.1400e-02, -7.7120e+00],\n",
       "       [ 3.8500e-01, -8.5460e+00],\n",
       "       [ 2.9700e-01, -4.8470e+00],\n",
       "       [ 5.2600e-01, -1.3553e+01],\n",
       "       [ 7.7400e-02, -6.5510e+00],\n",
       "       [ 1.1800e-01, -1.2072e+01],\n",
       "       [ 1.5300e-01, -5.1380e+00],\n",
       "       [ 3.3900e-01, -9.0260e+00],\n",
       "       [ 9.4500e-02, -8.6640e+00],\n",
       "       [ 3.2400e-02, -2.8493e+01],\n",
       "       [ 1.0800e-01, -7.6490e+00],\n",
       "       [ 1.0500e-01, -4.1970e+00],\n",
       "       [ 8.0600e-02, -8.5820e+00],\n",
       "       [ 2.7300e-01, -9.0710e+00],\n",
       "       [ 7.2700e-02, -8.1790e+00],\n",
       "       [ 1.0800e-01, -9.7950e+00],\n",
       "       [ 8.3700e-02, -3.7770e+00],\n",
       "       [ 1.4700e-01, -5.6630e+00],\n",
       "       [ 1.0600e-01, -6.2370e+00],\n",
       "       [ 1.2200e-01, -5.0160e+00],\n",
       "       [ 1.1700e-01, -6.3820e+00],\n",
       "       [ 1.8800e-01, -3.6450e+00],\n",
       "       [ 5.3100e-02, -4.2261e+01],\n",
       "       [ 8.1600e-02, -5.8200e+00],\n",
       "       [ 4.8300e-01, -1.0264e+01],\n",
       "       [ 4.0500e-01, -6.9950e+00],\n",
       "       [ 7.3400e-02, -3.4500e+00],\n",
       "       [ 8.0200e-02, -8.7570e+00],\n",
       "       [ 1.3100e-01, -5.7810e+00],\n",
       "       [ 6.9000e-02, -7.6540e+00],\n",
       "       [ 3.0600e-01, -7.1780e+00],\n",
       "       [ 2.9200e-01, -1.1121e+01],\n",
       "       [ 3.9500e-02, -3.3090e+01],\n",
       "       [ 7.7200e-02, -7.7660e+00],\n",
       "       [ 6.9300e-02, -1.0431e+01],\n",
       "       [ 1.9100e-01, -8.5160e+00],\n",
       "       [ 5.0700e-02, -2.3869e+01],\n",
       "       [ 1.0800e-01, -5.4910e+00],\n",
       "       [ 1.7500e-01, -5.6610e+00],\n",
       "       [ 3.3900e-01, -3.9290e+00],\n",
       "       [ 4.2000e-01, -9.8050e+00],\n",
       "       [ 3.5300e-02, -1.0241e+01],\n",
       "       [ 3.3300e-01, -9.9660e+00],\n",
       "       [ 2.4500e-01, -7.3730e+00],\n",
       "       [ 2.4600e-01, -6.9330e+00],\n",
       "       [ 2.2200e-01, -8.1430e+00],\n",
       "       [ 1.5700e-01, -8.7060e+00],\n",
       "       [ 5.9500e-02, -1.1184e+01],\n",
       "       [ 2.0200e-01, -9.6530e+00],\n",
       "       [ 7.8700e-02, -6.2890e+00],\n",
       "       [ 7.8100e-02, -5.0360e+00],\n",
       "       [ 1.2800e-01, -5.8460e+00],\n",
       "       [ 6.3500e-02, -9.3110e+00],\n",
       "       [ 2.9000e-01, -5.7080e+00],\n",
       "       [ 9.7000e-02, -5.2900e+00],\n",
       "       [ 4.2300e-02, -1.1893e+01],\n",
       "       [ 1.8100e-01, -7.0150e+00],\n",
       "       [ 4.1800e-02, -1.2260e+01],\n",
       "       [ 2.7700e-01, -5.7770e+00],\n",
       "       [ 8.2700e-02, -7.8340e+00],\n",
       "       [ 4.0800e-02, -1.7687e+01],\n",
       "       [ 8.6500e-02, -7.2900e+00],\n",
       "       [ 6.1900e-02, -1.2068e+01],\n",
       "       [ 6.2500e-02, -1.3038e+01],\n",
       "       [ 2.0000e-01, -3.0710e+00],\n",
       "       [ 3.1800e-02, -1.3870e+01],\n",
       "       [ 4.7000e-02, -5.9800e+00],\n",
       "       [ 3.1300e-02, -8.6390e+00],\n",
       "       [ 2.7100e-01, -5.7350e+00],\n",
       "       [ 4.8600e-02, -9.2230e+00],\n",
       "       [ 7.9000e-02, -7.4460e+00],\n",
       "       [ 4.8700e-02, -1.3705e+01],\n",
       "       [ 1.7900e-01, -4.9460e+00],\n",
       "       [ 2.7400e-01, -2.7620e+00],\n",
       "       [ 1.0000e-01, -7.7140e+00],\n",
       "       [ 5.0700e-02, -8.4700e+00],\n",
       "       [ 3.5200e-01, -5.3630e+00],\n",
       "       [ 1.1800e-01, -7.2820e+00],\n",
       "       [ 7.9300e-02, -1.0784e+01],\n",
       "       [ 3.4900e-02, -7.7600e+00],\n",
       "       [ 9.6200e-02, -4.6790e+00],\n",
       "       [ 3.5600e-02, -1.3864e+01],\n",
       "       [ 3.2000e-02, -1.3826e+01],\n",
       "       [ 2.7600e-01, -8.2400e+00],\n",
       "       [ 4.0800e-02, -2.0328e+01],\n",
       "       [ 8.5700e-02, -7.0170e+00],\n",
       "       [ 2.5900e-01, -3.2800e+00],\n",
       "       [ 3.3600e-02, -1.9802e+01],\n",
       "       [ 1.0300e-01, -8.6310e+00],\n",
       "       [ 7.1800e-02, -8.9920e+00],\n",
       "       [ 4.6200e-02, -9.2110e+00],\n",
       "       [ 4.3700e-02, -9.9650e+00],\n",
       "       [ 1.4200e-01, -7.8560e+00],\n",
       "       [ 5.0700e-01, -8.3480e+00],\n",
       "       [ 5.4000e-01, -9.9590e+00],\n",
       "       [ 3.0200e-02, -8.1970e+00],\n",
       "       [ 4.3400e-02, -5.3080e+00],\n",
       "       [ 3.0500e-01, -2.9010e+00],\n",
       "       [ 3.4300e-01, -1.0490e+01],\n",
       "       [ 2.5300e-01, -7.0820e+00],\n",
       "       [ 1.4500e-01, -7.9110e+00],\n",
       "       [ 1.7100e-01, -9.7160e+00],\n",
       "       [ 4.5100e-02, -7.5570e+00],\n",
       "       [ 4.6700e-02, -2.4810e+01],\n",
       "       [ 6.6500e-02, -5.3570e+00],\n",
       "       [ 7.0400e-02, -7.7060e+00],\n",
       "       [ 8.1800e-02, -8.4660e+00],\n",
       "       [ 7.5800e-02, -8.5610e+00],\n",
       "       [ 2.7300e-01, -5.4900e+00],\n",
       "       [ 4.1200e-02, -2.7675e+01],\n",
       "       [ 4.0100e-01, -6.6570e+00],\n",
       "       [ 5.3500e-02, -1.6055e+01],\n",
       "       [ 3.5500e-02, -3.0908e+01],\n",
       "       [ 1.1200e-01, -4.6230e+00],\n",
       "       [ 2.3100e-01, -6.9000e+00],\n",
       "       [ 3.0400e-01, -4.8600e+00],\n",
       "       [ 5.7100e-02, -2.3399e+01],\n",
       "       [ 9.5900e-02, -8.5070e+00],\n",
       "       [ 9.5000e-02, -5.8880e+00],\n",
       "       [ 5.8300e-02, -7.8360e+00],\n",
       "       [ 1.6600e-01, -8.3460e+00],\n",
       "       [ 5.7500e-02, -3.5980e+00],\n",
       "       [ 6.6200e-02, -4.2610e+00],\n",
       "       [ 1.0200e-01, -5.0500e+00],\n",
       "       [ 2.6100e-01, -7.1120e+00],\n",
       "       [ 6.3500e-02, -9.7730e+00],\n",
       "       [ 4.1600e-01, -6.6100e+00],\n",
       "       [ 7.9000e-02, -6.8350e+00],\n",
       "       [ 3.7500e-02, -7.0070e+00],\n",
       "       [ 9.0000e-02, -6.1200e+00],\n",
       "       [ 2.0800e-01, -6.3820e+00],\n",
       "       [ 3.6100e-02, -2.5880e+00],\n",
       "       [ 3.5000e-02, -3.6759e+01],\n",
       "       [ 5.7800e-02, -2.5398e+01],\n",
       "       [ 2.3000e-01, -8.8840e+00],\n",
       "       [ 1.5800e-01, -3.6680e+00],\n",
       "       [ 2.6400e-01, -8.2390e+00],\n",
       "       [ 8.3100e-02, -3.0630e+00],\n",
       "       [ 6.6800e-02, -6.3660e+00],\n",
       "       [ 1.6700e-01, -8.3900e+00],\n",
       "       [ 2.7500e-01, -7.4640e+00],\n",
       "       [ 4.1000e-02, -2.7400e+01],\n",
       "       [ 4.4000e-02, -1.7164e+01],\n",
       "       [ 4.3900e-01, -5.3350e+00],\n",
       "       [ 5.9500e-02, -1.8197e+01],\n",
       "       [ 4.0700e-02, -3.5616e+01],\n",
       "       [ 3.0800e-01, -6.1990e+00],\n",
       "       [ 9.0000e-02, -5.0750e+00],\n",
       "       [ 3.5400e-02, -9.5830e+00],\n",
       "       [ 3.6300e-02, -1.5485e+01],\n",
       "       [ 3.7600e-02, -1.0634e+01],\n",
       "       [ 2.6100e-01, -3.4120e+00],\n",
       "       [ 3.2600e-01, -1.0775e+01],\n",
       "       [ 3.8700e-02, -4.5410e+00],\n",
       "       [ 2.7800e-02, -9.2800e+00],\n",
       "       [ 2.3400e-01, -6.2620e+00],\n",
       "       [ 3.9000e-02, -6.8100e+00],\n",
       "       [ 2.1500e-01, -4.9070e+00],\n",
       "       [ 9.0900e-02, -7.5850e+00],\n",
       "       [ 4.2900e-02, -1.0033e+01],\n",
       "       [ 5.8100e-02, -5.2840e+00],\n",
       "       [ 2.7900e-01, -6.6020e+00],\n",
       "       [ 3.3600e-01, -8.1730e+00],\n",
       "       [ 1.4300e-01, -5.6260e+00],\n",
       "       [ 5.2000e-02, -1.9494e+01],\n",
       "       [ 5.6500e-02, -1.1630e+01],\n",
       "       [ 4.4800e-02, -1.1509e+01],\n",
       "       [ 9.6500e-02, -5.8380e+00],\n",
       "       [ 1.9700e-01, -7.8450e+00]])"
      ]
     },
     "execution_count": 9,
     "metadata": {},
     "output_type": "execute_result"
    }
   ],
   "source": [
    "X = dataset.loc[:, [\"speechiness\", \"loudness\"]].values\n",
    "X"
   ]
  },
  {
   "cell_type": "code",
   "execution_count": 10,
   "metadata": {
    "colab": {
     "base_uri": "https://localhost:8080/"
    },
    "id": "Of_82fBDHC4R",
    "outputId": "8444c3cf-1e77-4f16-9b46-176e15ce3edd"
   },
   "outputs": [
    {
     "data": {
      "text/plain": [
       "array([ 7, 10,  1,  3,  1,  8,  0,  7,  7,  3,  9,  1,  1,  6,  8,  5,  8,\n",
       "        8,  1,  8,  9,  9,  5,  4,  9,  1,  4,  5,  6,  8,  7,  6,  1, 10,\n",
       "        0,  4,  7,  1,  8, 11,  8,  1,  5,  3,  8,  1, 11,  2,  1,  1, 10,\n",
       "        2,  5,  0,  8,  2,  0,  2,  8,  8,  2,  5,  6,  5,  8,  8,  1,  5,\n",
       "        0,  8,  1, 11, 10,  1,  1,  6, 10,  9,  6,  4,  9,  0, 11,  1,  2,\n",
       "        4,  1,  8,  9,  5,  1, 10,  2, 10,  9,  0, 10,  7,  7,  6,  7,  2,\n",
       "        5, 10,  9,  6, 10,  7, 10,  1,  0,  6,  8,  2,  7,  1,  5,  9,  6,\n",
       "        1,  9,  9, 11,  1,  8,  1,  1,  6,  6,  7,  7,  6,  8,  7,  4,  5,\n",
       "        2, 11,  4,  2,  9,  6,  4,  4,  8,  3,  8,  2,  5, 10,  6,  0,  7,\n",
       "        6, 10,  5,  1,  6,  1,  8,  6,  9,  6, 11,  7,  7,  0, 10,  5, 11,\n",
       "        7,  9,  1,  2,  5, 10,  2,  1,  0,  7,  2,  7,  5, 10,  5,  9, 11,\n",
       "        1,  0,  6,  9,  3,  9, 10, 11], dtype=int64)"
      ]
     },
     "execution_count": 10,
     "metadata": {},
     "output_type": "execute_result"
    }
   ],
   "source": [
    "Y = dataset.loc[:, \"key\"].values\n",
    "Y"
   ]
  },
  {
   "cell_type": "code",
   "execution_count": 11,
   "metadata": {},
   "outputs": [
    {
     "data": {
      "text/plain": [
       "<Axes3DSubplot:xlabel='speechiness', ylabel='loudness'>"
      ]
     },
     "execution_count": 11,
     "metadata": {},
     "output_type": "execute_result"
    },
    {
     "data": {
      "image/png": "[encoded data removed]",
      "text/plain": [
       "<Figure size 432x288 with 1 Axes>"
      ]
     },
     "metadata": {
      "needs_background": "light"
     },
     "output_type": "display_data"
    }
   ],
   "source": [
    "plot_3d_plot(X,Y)"
   ]
  },
  {
   "cell_type": "markdown",
   "metadata": {
    "id": "QbO0qzzeHM7d"
   },
   "source": [
    "### *Splitting Dataset into Train & Test*"
   ]
  },
  {
   "cell_type": "code",
   "execution_count": 12,
   "metadata": {
    "colab": {
     "base_uri": "https://localhost:8080/"
    },
    "id": "1760lRsBHNw2",
    "outputId": "dfa659ad-f271-4d35-8302-9dd7ca05b554"
   },
   "outputs": [
    {
     "name": "stdout",
     "output_type": "stream",
     "text": [
      "(146, 2)\n",
      "(49, 2)\n"
     ]
    }
   ],
   "source": [
    "X_train, X_test, y_train, y_test = train_test_split(X, Y, test_size = 0.25, random_state = 0)\n",
    "print(X_train.shape)\n",
    "print(X_test.shape)"
   ]
  },
  {
   "cell_type": "markdown",
   "metadata": {},
   "source": [
    "### *Normalization*"
   ]
  },
  {
   "cell_type": "code",
   "execution_count": 13,
   "metadata": {},
   "outputs": [
    {
     "name": "stdout",
     "output_type": "stream",
     "text": [
      "Key training data [[0.03748536 0.90872887]\n",
      " [0.02948067 0.80721353]\n",
      " [0.81257321 0.80543519]\n",
      " [0.09683717 0.89442705]\n",
      " [0.48457634 0.85212273]\n",
      " [0.08766107 0.85365059]\n",
      " [0.05017571 0.65638071]\n",
      " [0.4552909  0.8803757 ]\n",
      " [0.3361968  0.98159048]\n",
      " [0.41624365 0.9282154 ]\n",
      " [0.14486529 0.93202254]\n",
      " [0.         0.82607389]\n",
      " [0.2014838  0.91371321]\n",
      " [0.05857087 0.42236694]\n",
      " [0.1858649  0.91699436]\n",
      " [0.73643108 0.8833062 ]\n",
      " [0.4552909  0.97304947]\n",
      " [0.02616166 0.365335  ]\n",
      " [0.00819992 0.71221039]\n",
      " [0.02538071 0.61550407]\n",
      " [0.09996095 0.87201002]\n",
      " [0.36548223 0.93560426]\n",
      " [0.26981648 0.84946775]\n",
      " [0.03319016 0.77024421]\n",
      " [0.09039438 1.        ]\n",
      " [0.69738383 0.84445836]\n",
      " [0.04080437 0.71524108]\n",
      " [0.3518157  0.89865999]\n",
      " [0.17415072 0.89865999]\n",
      " [0.0560328  0.76721353]\n",
      " [0.04724717 0.57024421]\n",
      " [0.0447091  0.46066374]\n",
      " [0.02752831 0.36901691]\n",
      " [0.0964467  0.86399499]\n",
      " [0.11304178 0.88275517]\n",
      " [0.45138618 0.97635567]\n",
      " [0.23272159 0.91666875]\n",
      " [0.17610308 0.87884784]\n",
      " [0.29519719 0.93462743]\n",
      " [0.06188989 0.77838447]\n",
      " [0.60171808 0.85380088]\n",
      " [0.02128075 0.94477145]\n",
      " [0.13119875 0.91103319]\n",
      " [0.03689965 0.43709455]\n",
      " [0.00683327 0.84212899]\n",
      " [0.01522843 0.71125861]\n",
      " [0.01893791 0.88300564]\n",
      " [0.49043342 0.89314966]\n",
      " [0.88871535 0.80142768]\n",
      " [0.03885201 0.88909205]\n",
      " [0.47481453 0.91486537]\n",
      " [0.05954705 0.8622417 ]\n",
      " [0.04060914 0.82750157]\n",
      " [0.28738774 0.91671885]\n",
      " [0.01503319 0.28435817]\n",
      " [0.15657946 0.8131747 ]\n",
      " [0.4240531  0.87383845]\n",
      " [0.10503709 0.91273638]\n",
      " [0.04939477 0.        ]\n",
      " [0.10718469 0.8622918 ]\n",
      " [0.37524405 0.91368817]\n",
      " [0.07614213 0.89906074]\n",
      " [0.67981257 0.75724483]\n",
      " [0.02186646 0.88793989]\n",
      " [0.08317064 0.86549781]\n",
      " [0.34010152 0.96252974]\n",
      " [0.00605232 0.81039449]\n",
      " [0.06969934 0.82529743]\n",
      " [0.10054666 0.78840326]\n",
      " [0.08902772 0.97209768]\n",
      " [0.14096056 0.86529743]\n",
      " [0.09820383 0.9323732 ]\n",
      " [0.05993752 0.88333125]\n",
      " [0.03592347 0.82780213]\n",
      " [0.13412729 0.91228554]\n",
      " [0.22881687 0.86036318]\n",
      " [0.57828973 0.84798998]\n",
      " [0.59586099 0.80889167]\n",
      " [0.09937524 0.90098936]\n",
      " [0.4865287  0.9138134 ]\n",
      " [0.00468567 0.85319975]\n",
      " [0.01620461 0.99368817]\n",
      " [0.02577118 0.37222292]\n",
      " [0.75790707 0.89294928]\n",
      " [0.00780945 0.71110833]\n",
      " [0.03162827 0.62860363]\n",
      " [0.41624365 0.82832812]\n",
      " [0.93557204 0.84941766]\n",
      " [0.63295588 0.92418284]\n",
      " [0.00898087 0.34484659]\n",
      " [0.51581414 0.77996243]\n",
      " [0.60757517 0.96010019]\n",
      " [0.54314721 0.8593613 ]\n",
      " [1.         0.809067  ]\n",
      " [0.01405701 0.13780839]\n",
      " [0.10913706 0.96390733]\n",
      " [0.01386177 0.86414527]\n",
      " [0.10542757 0.84646212]\n",
      " [0.8028114  0.92488416]\n",
      " [0.1163608  0.8210144 ]\n",
      " [0.10308473 0.84355667]\n",
      " [0.09371339 0.84408265]\n",
      " [0.10230379 0.83917345]\n",
      " [0.09996095 0.88731371]\n",
      " [0.03377587 0.86922981]\n",
      " [0.13022257 0.84150282]\n",
      " [0.52557595 0.93710708]\n",
      " [0.14681765 0.84232937]\n",
      " [0.06969934 0.81372574]\n",
      " [0.17610308 0.75614277]\n",
      " [0.46114799 0.85214778]\n",
      " [0.27957829 0.81515341]\n",
      " [0.33033971 0.86201628]\n",
      " [0.24443577 0.92981841]\n",
      " [0.05720422 0.47243582]\n",
      " [0.01913315 0.7921603 ]\n",
      " [0.05798516 0.96839073]\n",
      " [0.97266693 0.71904822]\n",
      " [0.48067161 0.98932999]\n",
      " [0.29910191 0.88280526]\n",
      " [0.51190941 0.91554164]\n",
      " [0.08590394 0.83328741]\n",
      " [0.07497071 0.9517846 ]\n",
      " [0.22491214 0.91759549]\n",
      " [0.25224522 0.84045085]\n",
      " [0.19562671 0.91208516]\n",
      " [0.40843421 0.86043832]\n",
      " [0.27176884 0.84836569]\n",
      " [0.02830925 0.76062617]\n",
      " [0.12319406 0.86852849]\n",
      " [0.01483795 0.81848466]\n",
      " [0.05915658 0.92616155]\n",
      " [0.47871925 0.8313087 ]\n",
      " [0.02284264 0.2297057 ]\n",
      " [0.39672003 0.88568566]\n",
      " [0.06657556 0.75624296]\n",
      " [0.42600547 0.88485911]\n",
      " [0.11460367 0.87591735]\n",
      " [0.15657946 0.86692549]\n",
      " [0.08141351 0.51534126]\n",
      " [0.8184303  0.8833062 ]\n",
      " [0.17610308 0.87611772]\n",
      " [0.01464272 0.80200376]\n",
      " [0.03104256 0.80891672]\n",
      " [0.31276845 0.96721353]\n",
      " [0.54705193 0.90324358]]\n",
      "Key test data [[0.02733307 0.75143394]\n",
      " [0.24053104 0.94567314]\n",
      " [0.60757517 0.83243582]\n",
      " [0.0113237  0.56252974]\n",
      " [0.02518547 0.16643707]\n",
      " [0.47871925 0.92100188]\n",
      " [0.10796564 0.98179086]\n",
      " [0.61538462 0.79576706]\n",
      " [0.34010152 0.81673137]\n",
      " [0.24638813 0.78577332]\n",
      " [0.27957829 0.9076268 ]\n",
      " [0.18976962 0.89783344]\n",
      " [0.439672   0.88112711]\n",
      " [0.25419758 0.96663745]\n",
      " [0.06188989 0.60273012]\n",
      " [0.40257712 0.90166562]\n",
      " [0.54119485 0.98584847]\n",
      " [0.08102304 0.79724483]\n",
      " [0.15267474 0.9022918 ]\n",
      " [0.53924248 0.93678147]\n",
      " [0.54314721 0.8787226 ]\n",
      " [0.12143694 0.93139637]\n",
      " [0.72862163 0.89177207]\n",
      " [0.06774697 0.7319474 ]\n",
      " [0.15657946 0.92097683]\n",
      " [0.08043733 0.86680025]\n",
      " [0.02538071 0.54935504]\n",
      " [0.48262398 0.87155917]\n",
      " [0.01659508 0.67065748]\n",
      " [0.18391253 0.93287414]\n",
      " [0.06891839 0.84310582]\n",
      " [0.12143694 0.90522229]\n",
      " [0.76571652 0.81292423]\n",
      " [0.15072237 0.9533876 ]\n",
      " [0.37914877 0.87025673]\n",
      " [0.13510348 0.92601127]\n",
      " [0.58219446 0.78862868]\n",
      " [0.13354159 0.94131497]\n",
      " [0.39476767 0.83599249]\n",
      " [0.04607575 0.86534753]\n",
      " [0.16438891 0.9427176 ]\n",
      " [0.13295588 0.84543519]\n",
      " [0.37914877 0.85455229]\n",
      " [0.04295197 0.88160301]\n",
      " [0.31862554 0.84520977]\n",
      " [0.07555642 0.92433312]\n",
      " [0.03045685 0.92556043]\n",
      " [0.0447091  0.84636193]\n",
      " [0.22295978 0.86174076]]\n"
     ]
    }
   ],
   "source": [
    "from sklearn.preprocessing import MinMaxScaler\n",
    "sc = MinMaxScaler()\n",
    "X_train = sc.fit_transform(X_train) \n",
    "X_test = sc.transform(X_test)\n",
    "print(\"Key training data\",X_train)\n",
    "print(\"Key test data\",X_test)"
   ]
  },
  {
   "cell_type": "markdown",
   "metadata": {
    "id": "e8DmcF1oHzTS"
   },
   "source": [
    "### *Training*"
   ]
  },
  {
   "cell_type": "code",
   "execution_count": 14,
   "metadata": {
    "colab": {
     "base_uri": "https://localhost:8080/"
    },
    "id": "uI79KiPYH3Ud",
    "outputId": "acc4bcb6-753d-4c3d-d342-87a887815db3"
   },
   "outputs": [
    {
     "data": {
      "text/plain": [
       "SVC(kernel='linear')"
      ]
     },
     "execution_count": 14,
     "metadata": {},
     "output_type": "execute_result"
    }
   ],
   "source": [
    "model = svm.SVC(kernel='linear')\n",
    "model.fit(X_train,y_train)"
   ]
  },
  {
   "cell_type": "markdown",
   "metadata": {
    "id": "umVph3jWO1_l"
   },
   "source": [
    "### *Predicting, what the digit is from Test Data*"
   ]
  },
  {
   "cell_type": "markdown",
   "metadata": {
    "id": "7LeUrxqkJP6w"
   },
   "source": [
    "### *Prediction for Test Data*"
   ]
  },
  {
   "cell_type": "code",
   "execution_count": 15,
   "metadata": {
    "colab": {
     "base_uri": "https://localhost:8080/"
    },
    "id": "2mcLDrhzJTwh",
    "outputId": "6bd33acd-27d6-4b0c-f640-3eacb0acd01b"
   },
   "outputs": [
    {
     "name": "stdout",
     "output_type": "stream",
     "text": [
      "[[ 1  1]\n",
      " [ 1  1]\n",
      " [ 1 10]\n",
      " [ 1  2]\n",
      " [ 1  9]\n",
      " [ 1  4]\n",
      " [ 1 11]\n",
      " [ 1  8]\n",
      " [ 1  1]\n",
      " [ 1  1]\n",
      " [ 1  7]\n",
      " [ 1  8]\n",
      " [ 1  1]\n",
      " [ 1  9]\n",
      " [ 1  7]\n",
      " [ 1  7]\n",
      " [ 1  1]\n",
      " [ 1  2]\n",
      " [ 1  8]\n",
      " [ 1  6]\n",
      " [ 1  0]\n",
      " [ 1  2]\n",
      " [ 1  2]\n",
      " [ 1  5]\n",
      " [ 1  5]\n",
      " [ 1  2]\n",
      " [ 1  0]\n",
      " [ 1  0]\n",
      " [ 1 10]\n",
      " [ 1  1]\n",
      " [ 1  5]\n",
      " [ 1  5]\n",
      " [ 1  1]\n",
      " [ 1  1]\n",
      " [ 1  1]\n",
      " [ 1  9]\n",
      " [ 1  0]\n",
      " [ 1 10]\n",
      " [ 1  6]\n",
      " [ 1  4]\n",
      " [ 1  2]\n",
      " [ 1  4]\n",
      " [ 1 11]\n",
      " [ 1  7]\n",
      " [ 1  5]\n",
      " [ 1  7]\n",
      " [ 1 11]\n",
      " [ 1  2]\n",
      " [ 1  6]]\n"
     ]
    }
   ],
   "source": [
    "y_pred = model.predict(X_test)\n",
    "print(np.concatenate((y_pred.reshape(len(y_pred),1), y_test.reshape(len(y_test),1)),1))"
   ]
  },
  {
   "cell_type": "markdown",
   "metadata": {
    "id": "gfNRnb-MJi9P"
   },
   "source": [
    "### *Evaluate Model - Accuracy Score*"
   ]
  },
  {
   "cell_type": "code",
   "execution_count": 16,
   "metadata": {
    "colab": {
     "base_uri": "https://localhost:8080/"
    },
    "id": "irsPBj9KJnl-",
    "outputId": "1a08bd04-1dc1-47d2-b11d-012df6d1fe6f"
   },
   "outputs": [
    {
     "name": "stdout",
     "output_type": "stream",
     "text": [
      "Accuracy of the Model: 20.408163265306122%\n"
     ]
    }
   ],
   "source": [
    "print(\"Accuracy of the Model: {0}%\".format(accuracy_score(y_test, y_pred)*100))"
   ]
  },
  {
   "cell_type": "markdown",
   "metadata": {
    "id": "C95vmesVLUrO"
   },
   "source": [
    "### *Linear kernel*"
   ]
  },
  {
   "cell_type": "code",
   "execution_count": 17,
   "metadata": {
    "colab": {
     "base_uri": "https://localhost:8080/"
    },
    "id": "BVv7Pux6LdpH",
    "outputId": "322d8845-d2e9-4e53-a689-eda4f6595700"
   },
   "outputs": [
    {
     "data": {
      "image/png": "[encoded data removed]",
      "text/plain": [
       "<Figure size 432x288 with 1 Axes>"
      ]
     },
     "metadata": {
      "needs_background": "light"
     },
     "output_type": "display_data"
    },
    {
     "name": "stdout",
     "output_type": "stream",
     "text": [
      "Accuracy of the Model 1: 20.408163265306122%\n"
     ]
    }
   ],
   "source": [
    "model1 = svm.SVC(kernel='linear')\n",
    "model1.fit(X_train,y_train)\n",
    "y_predModel1 = model1.predict(X_test)\n",
    "plot_hyperplane(X_test,y_test,model1)\n",
    "print(\"Accuracy of the Model 1: {0}%\".format(accuracy_score(y_test, y_predModel1)*100))"
   ]
  },
  {
   "cell_type": "markdown",
   "metadata": {},
   "source": [
    "### *Gaussian Kernel*"
   ]
  },
  {
   "cell_type": "code",
   "execution_count": 18,
   "metadata": {},
   "outputs": [
    {
     "data": {
      "image/png": "[encoded data removed]",
      "text/plain": [
       "<Figure size 432x288 with 1 Axes>"
      ]
     },
     "metadata": {
      "needs_background": "light"
     },
     "output_type": "display_data"
    },
    {
     "name": "stdout",
     "output_type": "stream",
     "text": [
      "Accuracy of the Model 2: 14.285714285714285%\n"
     ]
    }
   ],
   "source": [
    "model2 = svm.SVC(kernel='rbf')\n",
    "model2.fit(X_train,y_train)\n",
    "y_predModel2 = model2.predict(X_test)\n",
    "plot_hyperplane(X_test,y_test,model2)\n",
    "print(\"Accuracy of the Model 2: {0}%\".format(accuracy_score(y_test, y_predModel2)*100))"
   ]
  },
  {
   "cell_type": "markdown",
   "metadata": {},
   "source": [
    "### *hyperparameter*"
   ]
  },
  {
   "cell_type": "code",
   "execution_count": 19,
   "metadata": {},
   "outputs": [
    {
     "data": {
      "image/png": "[encoded data removed]",
      "text/plain": [
       "<Figure size 432x288 with 1 Axes>"
      ]
     },
     "metadata": {
      "needs_background": "light"
     },
     "output_type": "display_data"
    },
    {
     "name": "stdout",
     "output_type": "stream",
     "text": [
      "Accuracy of the Model 3: 20.408163265306122%\n"
     ]
    }
   ],
   "source": [
    "model3 = svm.SVC(kernel='rbf', random_state=1, gamma=0.001)\n",
    "model3.fit(X_train,y_train)\n",
    "y_predModel3 = model3.predict(X_test)\n",
    "plot_hyperplane(X_test,y_test,model3)\n",
    "print(\"Accuracy of the Model 3: {0}%\".format(accuracy_score(y_test, y_predModel3)*100))"
   ]
  },
  {
   "cell_type": "markdown",
   "metadata": {},
   "source": [
    "### *hyperparameter and cost*"
   ]
  },
  {
   "cell_type": "code",
   "execution_count": 20,
   "metadata": {},
   "outputs": [
    {
     "data": {
      "image/png": "[encoded data removed]",
      "text/plain": [
       "<Figure size 432x288 with 1 Axes>"
      ]
     },
     "metadata": {
      "needs_background": "light"
     },
     "output_type": "display_data"
    },
    {
     "name": "stdout",
     "output_type": "stream",
     "text": [
      "Accuracy of the Model 4: 20.408163265306122%\n"
     ]
    }
   ],
   "source": [
    "model4 = svm.SVC(kernel='rbf', random_state=2, gamma=0.001, C=0.1)\n",
    "model4.fit(X_train,y_train)\n",
    "y_predModel4 = model4.predict(X_test)\n",
    "plot_hyperplane(X_test,y_test,model4)\n",
    "print(\"Accuracy of the Model 4: {0}%\".format(accuracy_score(y_test, y_predModel4)*100))"
   ]
  },
  {
   "cell_type": "code",
   "execution_count": null,
   "metadata": {},
   "outputs": [],
   "source": []
  }
 ],
 "metadata": {
  "colab": {
   "collapsed_sections": [],
   "name": "Day5_HandwrittenDigitRecognition_SVM.ipynb",
   "provenance": []
  },
  "kernelspec": {
   "display_name": "Python 3",
   "language": "python",
   "name": "python3"
  },
  "language_info": {
   "codemirror_mode": {
    "name": "ipython",
    "version": 3
   },
   "file_extension": ".py",
   "mimetype": "text/x-python",
   "name": "python",
   "nbconvert_exporter": "python",
   "pygments_lexer": "ipython3",
   "version": "3.8.8"
  }
 },
 "nbformat": 4,
 "nbformat_minor": 1
}
